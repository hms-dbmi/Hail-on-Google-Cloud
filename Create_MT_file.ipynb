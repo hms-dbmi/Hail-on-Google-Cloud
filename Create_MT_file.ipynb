{
 "cells": [
  {
   "cell_type": "markdown",
   "metadata": {},
   "source": [
    "# How to create a MT file ? "
   ]
  },
  {
   "cell_type": "markdown",
   "metadata": {},
   "source": [
    "Krissaane Inès\n",
    "\n",
    "08/22/2018"
   ]
  },
  {
   "cell_type": "code",
   "execution_count": 1,
   "metadata": {},
   "outputs": [
    {
     "name": "stderr",
     "output_type": "stream",
     "text": [
      "Running on Apache Spark version 2.2.1\n",
      "SparkUI available at http://10.142.0.10:4040\n",
      "Welcome to\n",
      "     __  __     <>__\n",
      "    / /_/ /__  __/ /\n",
      "   / __  / _ `/ / /\n",
      "  /_/ /_/\\_,_/_/_/   version devel-1bd08b90e0a0\n",
      "NOTE: This is a beta version. Interfaces may change\n",
      "  during the beta period. We recommend pulling\n",
      "  the latest changes weekly.\n"
     ]
    }
   ],
   "source": [
    "import hail as hl\n",
    "import hail.expr.aggregators as agg\n",
    "hl.init()"
   ]
  },
  {
   "cell_type": "code",
   "execution_count": 5,
   "metadata": {},
   "outputs": [],
   "source": [
    "import gcsfs\n",
    "import time\n",
    "fs = gcsfs.GCSFileSystem(project='avl-hail-ines')"
   ]
  },
  {
   "cell_type": "markdown",
   "metadata": {},
   "source": [
    "## Import VCF files\n",
    "\n",
    "https://hail.is/docs/devel/methods/impex.html?highlight=import#hail.methods.import_vcf"
   ]
  },
  {
   "cell_type": "code",
   "execution_count": 3,
   "metadata": {},
   "outputs": [],
   "source": [
    "liste = fs.ls('gs://1k-genome/1000-genomes/vcf/')"
   ]
  },
  {
   "cell_type": "code",
   "execution_count": 4,
   "metadata": {},
   "outputs": [
    {
     "data": {
      "text/plain": [
       "['1k-genome/1000-genomes/vcf/ALL.chr9.integrated_phase1_v3.20101123.snps_indels_svs.genotypes.vcf',\n",
       " '1k-genome/1000-genomes/vcf/ALL.chr6.integrated_phase1_v3.20101123.snps_indels_svs.genotypes.vcf',\n",
       " '1k-genome/1000-genomes/vcf/ALL.chr13.integrated_phase1_v3.20101123.snps_indels_svs.genotypes.vcf',\n",
       " '1k-genome/1000-genomes/vcf/ALL.chr11.integrated_phase1_v3.20101123.snps_indels_svs.genotypes.vcf',\n",
       " '1k-genome/1000-genomes/vcf/ALL.chr12.integrated_phase1_v3.20101123.snps_indels_svs.genotypes.vcf',\n",
       " '1k-genome/1000-genomes/vcf/ALL.chr17.integrated_phase1_v3.20101123.snps_indels_svs.genotypes.vcf',\n",
       " '1k-genome/1000-genomes/vcf/ALL.chr1.integrated_phase1_v3.20101123.snps_indels_svs.genotypes.vcf',\n",
       " '1k-genome/1000-genomes/vcf/ALL.chr19.integrated_phase1_v3.20101123.snps_indels_svs.genotypes.vcf',\n",
       " '1k-genome/1000-genomes/vcf/ALL.chr16.integrated_phase1_v3.20101123.snps_indels_svs.genotypes.vcf',\n",
       " '1k-genome/1000-genomes/vcf/ALL.chr4.integrated_phase1_v3.20101123.snps_indels_svs.genotypes.vcf',\n",
       " '1k-genome/1000-genomes/vcf/ALL.chrY.genome_strip_hq.20101123.svs.low_coverage.genotypes.vcf',\n",
       " '1k-genome/1000-genomes/vcf/ALL.wgs.integrated_phase1_v3.20101123.snps_indels_sv.sites.vcf',\n",
       " '1k-genome/1000-genomes/vcf/ALL.chr14.integrated_phase1_v3.20101123.snps_indels_svs.genotypes.vcf',\n",
       " '1k-genome/1000-genomes/vcf/ALL.chrMT.phase1_samtools_si.20101123.snps.low_coverage.genotypes.vcf',\n",
       " '1k-genome/1000-genomes/vcf/ALL.chrY.phase1_samtools_si.20101123.snps.low_coverage.genotypes.vcf',\n",
       " '1k-genome/1000-genomes/vcf/ALL.chr18.integrated_phase1_v3.20101123.snps_indels_svs.genotypes.vcf',\n",
       " '1k-genome/1000-genomes/vcf/ALL.chr5.integrated_phase1_v3.20101123.snps_indels_svs.genotypes.vcf',\n",
       " '1k-genome/1000-genomes/vcf/ALL.chr8.integrated_phase1_v3.20101123.snps_indels_svs.genotypes.vcf',\n",
       " '1k-genome/1000-genomes/vcf/ALL.chr2.integrated_phase1_v3.20101123.snps_indels_svs.genotypes.vcf',\n",
       " '1k-genome/1000-genomes/vcf/ALL.chr20.integrated_phase1_v3.20101123.snps_indels_svs.genotypes.vcf',\n",
       " '1k-genome/1000-genomes/vcf/ALL.chr10.integrated_phase1_v3.20101123.snps_indels_svs.genotypes.vcf',\n",
       " '1k-genome/1000-genomes/vcf/ALL.chrX.integrated_phase1_v3.20101123.snps_indels_svs.genotypes.vcf',\n",
       " '1k-genome/1000-genomes/vcf/ALL.chr21.integrated_phase1_v3.20101123.snps_indels_svs.genotypes.vcf',\n",
       " '1k-genome/1000-genomes/vcf/ALL.chr22.integrated_phase1_v3.20101123.snps_indels_svs.genotypes.vcf',\n",
       " '1k-genome/1000-genomes/vcf/ALL.chr15.integrated_phase1_v3.20101123.snps_indels_svs.genotypes.vcf',\n",
       " '1k-genome/1000-genomes/vcf/ALL.chr7.integrated_phase1_v3.20101123.snps_indels_svs.genotypes.vcf',\n",
       " '1k-genome/1000-genomes/vcf/ALL.chr3.integrated_phase1_v3.20101123.snps_indels_svs.genotypes.vcf']"
      ]
     },
     "execution_count": 4,
     "metadata": {},
     "output_type": "execute_result"
    }
   ],
   "source": [
    "liste"
   ]
  },
  {
   "cell_type": "code",
   "execution_count": 6,
   "metadata": {},
   "outputs": [],
   "source": [
    "#remove two files : MT and Y VCF file\n",
    "# 3 min\n",
    "start = time.time()\n",
    "vds = hl.import_vcf(['gs://1k-genome/1000-genomes/vcf/ALL.chr9.integrated_phase1_v3.20101123.snps_indels_svs.genotypes.vcf',\n",
    " 'gs://1k-genome/1000-genomes/vcf/ALL.chr6.integrated_phase1_v3.20101123.snps_indels_svs.genotypes.vcf',\n",
    " 'gs://1k-genome/1000-genomes/vcf/ALL.chr13.integrated_phase1_v3.20101123.snps_indels_svs.genotypes.vcf',\n",
    " 'gs://1k-genome/1000-genomes/vcf/ALL.chr11.integrated_phase1_v3.20101123.snps_indels_svs.genotypes.vcf',\n",
    " 'gs://1k-genome/1000-genomes/vcf/ALL.chr12.integrated_phase1_v3.20101123.snps_indels_svs.genotypes.vcf',\n",
    " 'gs://1k-genome/1000-genomes/vcf/ALL.chr17.integrated_phase1_v3.20101123.snps_indels_svs.genotypes.vcf',\n",
    " 'gs://1k-genome/1000-genomes/vcf/ALL.chr1.integrated_phase1_v3.20101123.snps_indels_svs.genotypes.vcf',\n",
    " 'gs://1k-genome/1000-genomes/vcf/ALL.chr19.integrated_phase1_v3.20101123.snps_indels_svs.genotypes.vcf',\n",
    " 'gs://1k-genome/1000-genomes/vcf/ALL.chr16.integrated_phase1_v3.20101123.snps_indels_svs.genotypes.vcf',\n",
    " 'gs://1k-genome/1000-genomes/vcf/ALL.chr4.integrated_phase1_v3.20101123.snps_indels_svs.genotypes.vcf',\n",
    " 'gs://1k-genome/1000-genomes/vcf/ALL.chr14.integrated_phase1_v3.20101123.snps_indels_svs.genotypes.vcf',\n",
    " 'gs://1k-genome/1000-genomes/vcf/ALL.chr18.integrated_phase1_v3.20101123.snps_indels_svs.genotypes.vcf',\n",
    " 'gs://1k-genome/1000-genomes/vcf/ALL.chr5.integrated_phase1_v3.20101123.snps_indels_svs.genotypes.vcf',\n",
    " 'gs://1k-genome/1000-genomes/vcf/ALL.chr8.integrated_phase1_v3.20101123.snps_indels_svs.genotypes.vcf',\n",
    " 'gs://1k-genome/1000-genomes/vcf/ALL.chr2.integrated_phase1_v3.20101123.snps_indels_svs.genotypes.vcf',\n",
    " 'gs://1k-genome/1000-genomes/vcf/ALL.chr20.integrated_phase1_v3.20101123.snps_indels_svs.genotypes.vcf',\n",
    " 'gs://1k-genome/1000-genomes/vcf/ALL.chr10.integrated_phase1_v3.20101123.snps_indels_svs.genotypes.vcf',\n",
    " 'gs://1k-genome/1000-genomes/vcf/ALL.chrX.integrated_phase1_v3.20101123.snps_indels_svs.genotypes.vcf',\n",
    " 'gs://1k-genome/1000-genomes/vcf/ALL.chr21.integrated_phase1_v3.20101123.snps_indels_svs.genotypes.vcf',\n",
    " 'gs://1k-genome/1000-genomes/vcf/ALL.chr22.integrated_phase1_v3.20101123.snps_indels_svs.genotypes.vcf',\n",
    " 'gs://1k-genome/1000-genomes/vcf/ALL.chr15.integrated_phase1_v3.20101123.snps_indels_svs.genotypes.vcf',\n",
    " 'gs://1k-genome/1000-genomes/vcf/ALL.chr7.integrated_phase1_v3.20101123.snps_indels_svs.genotypes.vcf',\n",
    " 'gs://1k-genome/1000-genomes/vcf/ALL.chr3.integrated_phase1_v3.20101123.snps_indels_svs.genotypes.vcf'])\n",
    "elapsed_time = (time.time() - start)"
   ]
  },
  {
   "cell_type": "code",
   "execution_count": 7,
   "metadata": {},
   "outputs": [
    {
     "name": "stderr",
     "output_type": "stream",
     "text": [
      "2018-08-22 14:23:24 Hail: INFO: Coerced almost-sorted dataset\n"
     ]
    },
    {
     "data": {
      "text/plain": [
       "(39706715, 1092)"
      ]
     },
     "execution_count": 7,
     "metadata": {},
     "output_type": "execute_result"
    }
   ],
   "source": [
    "vds.count()"
   ]
  },
  {
   "cell_type": "markdown",
   "metadata": {},
   "source": [
    "## Write VDS file\n",
    "\n",
    "https://hail.is/docs/devel/hail.MatrixTable.html?highlight=write#hail.MatrixTable.write\n"
   ]
  },
  {
   "cell_type": "code",
   "execution_count": null,
   "metadata": {},
   "outputs": [],
   "source": [
    "#15min\n",
    "# you choose the path where you want to write your MT file\n",
    "start = time.time()\n",
    "vds.write(\"gs://1k-genome/1000-genomes/VDS-of-all/ALL.chr.integrated_phase1_v3.20101123.snps_indels_svs.genotypes.mt\")\n",
    "elapsed_time = (time.time() - start)"
   ]
  },
  {
   "cell_type": "markdown",
   "metadata": {},
   "source": [
    "## Read VDS file\n",
    "\n",
    "https://hail.is/docs/devel/methods/impex.html?highlight=read#hail.methods.read_matrix_table"
   ]
  },
  {
   "cell_type": "markdown",
   "metadata": {},
   "source": [
    "Begin by reading the fast VDS rather than the slow VCF. "
   ]
  },
  {
   "cell_type": "code",
   "execution_count": 19,
   "metadata": {},
   "outputs": [],
   "source": [
    "#2 seconds\n",
    "vds = hl.read_matrix_table(\"gs://1k-genome/1000-genomes/VDS-of-all/ALL.chr.integrated_phase1_v3.20101123.snps_indels_svs.genotypes.mt\")"
   ]
  },
  {
   "cell_type": "code",
   "execution_count": 20,
   "metadata": {},
   "outputs": [
    {
     "data": {
      "text/plain": [
       "(39706715, 1092)"
      ]
     },
     "execution_count": 20,
     "metadata": {},
     "output_type": "execute_result"
    }
   ],
   "source": [
    "vds.count()"
   ]
  },
  {
   "cell_type": "code",
   "execution_count": null,
   "metadata": {},
   "outputs": [],
   "source": []
  }
 ],
 "metadata": {
  "kernelspec": {
   "display_name": "Hail",
   "language": "python",
   "name": "hail"
  },
  "language_info": {
   "codemirror_mode": {
    "name": "ipython",
    "version": 3
   },
   "file_extension": ".py",
   "mimetype": "text/x-python",
   "name": "python",
   "nbconvert_exporter": "python",
   "pygments_lexer": "ipython3",
   "version": "3.6.4"
  }
 },
 "nbformat": 4,
 "nbformat_minor": 2
}