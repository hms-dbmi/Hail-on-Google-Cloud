{
 "cells": [
  {
   "cell_type": "markdown",
   "metadata": {},
   "source": [
    "# 1kGenome Phase 1"
   ]
  },
  {
   "cell_type": "markdown",
   "metadata": {},
   "source": [
    "Inès Krissaane\n",
    "\n",
    "08/06/2018"
   ]
  },
  {
   "cell_type": "code",
   "execution_count": 18,
   "metadata": {},
   "outputs": [
    {
     "name": "stdout",
     "output_type": "stream",
     "text": [
      "Enter password: ········\n",
      "Verify password: ········\n",
      "Passwords do not match.\n",
      "Enter password: ········\n",
      "Verify password: ········\n"
     ]
    },
    {
     "data": {
      "text/plain": [
       "'sha1:40c64ad64147:f4d6442cc6f9f8206aa40ce8fcb88d0a31f923dd'"
      ]
     },
     "execution_count": 18,
     "metadata": {},
     "output_type": "execute_result"
    }
   ],
   "source": [
    "# password : new password for the conference  = avillach-dbmi\n",
    "from IPython.lib import passwd\n",
    "passwd()"
   ]
  },
  {
   "cell_type": "code",
   "execution_count": 1,
   "metadata": {},
   "outputs": [
    {
     "name": "stderr",
     "output_type": "stream",
     "text": [
      "Running on Apache Spark version 2.2.1\n",
      "SparkUI available at http://10.142.0.12:4040\n",
      "Welcome to\n",
      "     __  __     <>__\n",
      "    / /_/ /__  __/ /\n",
      "   / __  / _ `/ / /\n",
      "  /_/ /_/\\_,_/_/_/   version devel-aa83f2a1d041\n",
      "NOTE: This is a beta version. Interfaces may change\n",
      "  during the beta period. We recommend pulling\n",
      "  the latest changes weekly.\n"
     ]
    }
   ],
   "source": [
    "import hail as hl\n",
    "import hail.expr.aggregators as agg\n",
    "hl.init()"
   ]
  },
  {
   "cell_type": "code",
   "execution_count": 5,
   "metadata": {},
   "outputs": [
    {
     "name": "stdout",
     "output_type": "stream",
     "text": [
      "No module named 'dask'\n"
     ]
    }
   ],
   "source": [
    "import gcsfs\n",
    "fs = gcsfs.GCSFileSystem(project='avl-hail-ines')"
   ]
  },
  {
   "cell_type": "code",
   "execution_count": 6,
   "metadata": {},
   "outputs": [],
   "source": [
    "from collections import Counter\n",
    "import numpy as np\n",
    "import pandas as pd\n",
    "import matplotlib.pyplot as plt\n",
    "import matplotlib.patches as mpatches\n",
    "from collections import Counter\n",
    "import scipy.stats as stat\n",
    "#import sklearn\n",
    "from pprint import pprint\n",
    "%matplotlib inline\n",
    "from bokeh.plotting import figure, output_file, show\n",
    "import time\n",
    "from bokeh.io import output_notebook, push_notebook, show\n",
    "import seaborn as sns\n",
    "import plotly\n",
    "import time\n",
    "import gcsfs\n",
    "import csv"
   ]
  },
  {
   "cell_type": "markdown",
   "metadata": {},
   "source": [
    "## Load the data"
   ]
  },
  {
   "cell_type": "markdown",
   "metadata": {},
   "source": [
    "#### Import VCF"
   ]
  },
  {
   "cell_type": "raw",
   "metadata": {},
   "source": [
    "liste = fs.ls('gs://1k-genome/1000-genomes/vcf/') "
   ]
  },
  {
   "cell_type": "raw",
   "metadata": {},
   "source": [
    "#remove MT and Y VCF file\n",
    "# 3 min\n",
    "start = time.time()\n",
    "vds = hl.import_vcf(['gs://1k-genome/1000-genomes/vcf/ALL.chr9.integrated_phase1_v3.20101123.snps_indels_svs.genotypes.vcf',\n",
    " 'gs://1k-genome/1000-genomes/vcf/ALL.chr6.integrated_phase1_v3.20101123.snps_indels_svs.genotypes.vcf',\n",
    " 'gs://1k-genome/1000-genomes/vcf/ALL.chr13.integrated_phase1_v3.20101123.snps_indels_svs.genotypes.vcf',\n",
    " 'gs://1k-genome/1000-genomes/vcf/ALL.chr11.integrated_phase1_v3.20101123.snps_indels_svs.genotypes.vcf',\n",
    " 'gs://1k-genome/1000-genomes/vcf/ALL.chr12.integrated_phase1_v3.20101123.snps_indels_svs.genotypes.vcf',\n",
    " 'gs://1k-genome/1000-genomes/vcf/ALL.chr17.integrated_phase1_v3.20101123.snps_indels_svs.genotypes.vcf',\n",
    " 'gs://1k-genome/1000-genomes/vcf/ALL.chr1.integrated_phase1_v3.20101123.snps_indels_svs.genotypes.vcf',\n",
    " 'gs://1k-genome/1000-genomes/vcf/ALL.chr19.integrated_phase1_v3.20101123.snps_indels_svs.genotypes.vcf',\n",
    " 'gs://1k-genome/1000-genomes/vcf/ALL.chr16.integrated_phase1_v3.20101123.snps_indels_svs.genotypes.vcf',\n",
    " 'gs://1k-genome/1000-genomes/vcf/ALL.chr4.integrated_phase1_v3.20101123.snps_indels_svs.genotypes.vcf',\n",
    " 'gs://1k-genome/1000-genomes/vcf/ALL.chr14.integrated_phase1_v3.20101123.snps_indels_svs.genotypes.vcf',\n",
    " 'gs://1k-genome/1000-genomes/vcf/ALL.chr18.integrated_phase1_v3.20101123.snps_indels_svs.genotypes.vcf',\n",
    " 'gs://1k-genome/1000-genomes/vcf/ALL.chr5.integrated_phase1_v3.20101123.snps_indels_svs.genotypes.vcf',\n",
    " 'gs://1k-genome/1000-genomes/vcf/ALL.chr8.integrated_phase1_v3.20101123.snps_indels_svs.genotypes.vcf',\n",
    " 'gs://1k-genome/1000-genomes/vcf/ALL.chr2.integrated_phase1_v3.20101123.snps_indels_svs.genotypes.vcf',\n",
    " 'gs://1k-genome/1000-genomes/vcf/ALL.chr20.integrated_phase1_v3.20101123.snps_indels_svs.genotypes.vcf',\n",
    " 'gs://1k-genome/1000-genomes/vcf/ALL.chr10.integrated_phase1_v3.20101123.snps_indels_svs.genotypes.vcf',\n",
    " 'gs://1k-genome/1000-genomes/vcf/ALL.chrX.integrated_phase1_v3.20101123.snps_indels_svs.genotypes.vcf',\n",
    " 'gs://1k-genome/1000-genomes/vcf/ALL.chr21.integrated_phase1_v3.20101123.snps_indels_svs.genotypes.vcf',\n",
    " 'gs://1k-genome/1000-genomes/vcf/ALL.chr22.integrated_phase1_v3.20101123.snps_indels_svs.genotypes.vcf',\n",
    " 'gs://1k-genome/1000-genomes/vcf/ALL.chr15.integrated_phase1_v3.20101123.snps_indels_svs.genotypes.vcf',\n",
    " 'gs://1k-genome/1000-genomes/vcf/ALL.chr7.integrated_phase1_v3.20101123.snps_indels_svs.genotypes.vcf',\n",
    " 'gs://1k-genome/1000-genomes/vcf/ALL.chr3.integrated_phase1_v3.20101123.snps_indels_svs.genotypes.vcf'])\n",
    "elapsed_time = (time.time() - start)"
   ]
  },
  {
   "cell_type": "raw",
   "metadata": {},
   "source": [
    "for it in (liste):\n",
    "    start = time.time()\n",
    "    hl.import_vcf('gs://1k-genome/1000-genomes/vcf/ALL.chr{}.integrated_phase1_v3.20101123.snps_indels_svs.genotypes.vcf'.format(it))\n",
    "    elapsed_time = (time.time() - start)\n",
    "    time_import.append(elapsed_time)"
   ]
  },
  {
   "cell_type": "markdown",
   "metadata": {},
   "source": [
    "#### Write VDS"
   ]
  },
  {
   "cell_type": "raw",
   "metadata": {},
   "source": [
    "#15min\n",
    "start = time.time()\n",
    "vds.write(\"gs://1k-genome/1000-genomes/VDS-of-all/ALL.chr.integrated_phase1_v3.20101123.snps_indels_svs.genotypes.mt\")\n",
    "elapsed_time = (time.time() - start)"
   ]
  },
  {
   "cell_type": "markdown",
   "metadata": {},
   "source": [
    "#### Read VDS "
   ]
  },
  {
   "cell_type": "markdown",
   "metadata": {},
   "source": [
    "Begin by reading the fast VDS rather than the slow VCF."
   ]
  },
  {
   "cell_type": "code",
   "execution_count": 4,
   "metadata": {},
   "outputs": [],
   "source": [
    "#less than 1 seconde\n",
    "start = time.time()\n",
    "vds = hl.read_matrix_table(\"gs://1k-genome/1000-genomes/VDS-of-all/ALL.chr.integrated_phase1_v3.20101123.snps_indels_svs.genotypes.mt\")\n",
    "elapsed_time = (time.time() - start)"
   ]
  },
  {
   "cell_type": "markdown",
   "metadata": {},
   "source": [
    "## Getting to know our data \n"
   ]
  },
  {
   "cell_type": "markdown",
   "metadata": {},
   "source": [
    "#### Describe the data"
   ]
  },
  {
   "cell_type": "code",
   "execution_count": 17,
   "metadata": {},
   "outputs": [
    {
     "ename": "NameError",
     "evalue": "name 'vds' is not defined",
     "output_type": "error",
     "traceback": [
      "\u001b[1;31m---------------------------------------------------------------------------\u001b[0m",
      "\u001b[1;31mNameError\u001b[0m                                 Traceback (most recent call last)",
      "\u001b[1;32m<ipython-input-17-354743a02731>\u001b[0m in \u001b[0;36m<module>\u001b[1;34m()\u001b[0m\n\u001b[1;32m----> 1\u001b[1;33m \u001b[0mvds\u001b[0m\u001b[1;33m.\u001b[0m\u001b[0mcount\u001b[0m\u001b[1;33m(\u001b[0m\u001b[1;33m)\u001b[0m\u001b[1;33m\u001b[0m\u001b[0m\n\u001b[0m",
      "\u001b[1;31mNameError\u001b[0m: name 'vds' is not defined"
     ]
    }
   ],
   "source": [
    "vds.count()"
   ]
  },
  {
   "cell_type": "markdown",
   "metadata": {},
   "source": [
    "We have 39706715 variants and 1092 samples. "
   ]
  },
  {
   "cell_type": "code",
   "execution_count": null,
   "metadata": {},
   "outputs": [],
   "source": [
    "vds.count_cols()"
   ]
  },
  {
   "cell_type": "code",
   "execution_count": null,
   "metadata": {},
   "outputs": [],
   "source": [
    "vds.count_rows()"
   ]
  },
  {
   "cell_type": "code",
   "execution_count": null,
   "metadata": {},
   "outputs": [],
   "source": [
    "vds.describe()"
   ]
  },
  {
   "cell_type": "code",
   "execution_count": null,
   "metadata": {},
   "outputs": [],
   "source": [
    "list(vds.row)"
   ]
  },
  {
   "cell_type": "code",
   "execution_count": null,
   "metadata": {},
   "outputs": [],
   "source": [
    "# see the variants\n",
    "vds.rows().select().show(5)\n",
    "vds.rows().show(1)"
   ]
  },
  {
   "cell_type": "code",
   "execution_count": null,
   "metadata": {},
   "outputs": [],
   "source": [
    "# see the samples\n",
    "vds.s.show(5)"
   ]
  },
  {
   "cell_type": "code",
   "execution_count": null,
   "metadata": {},
   "outputs": [],
   "source": [
    "list(vds.entry)"
   ]
  },
  {
   "cell_type": "code",
   "execution_count": null,
   "metadata": {},
   "outputs": [],
   "source": [
    "# see the genotypes \n",
    "vds.entry.take(3)"
   ]
  },
  {
   "cell_type": "code",
   "execution_count": null,
   "metadata": {},
   "outputs": [],
   "source": [
    "vds.entry.show(3)"
   ]
  },
  {
   "cell_type": "markdown",
   "metadata": {},
   "source": [
    "#### Adding column fields"
   ]
  },
  {
   "cell_type": "markdown",
   "metadata": {},
   "source": [
    "Super Population will be the phentoype."
   ]
  },
  {
   "cell_type": "code",
   "execution_count": 7,
   "metadata": {},
   "outputs": [],
   "source": [
    "#import all the sample informations\n",
    "with fs.open('1k-genome/1000-genomes/other/sample_info/sample_info.csv',\"rt\") as f:\n",
    "    data = pd.read_csv(f)"
   ]
  },
  {
   "cell_type": "code",
   "execution_count": 3,
   "metadata": {},
   "outputs": [
    {
     "data": {
      "text/plain": [
       "(3500, 62)"
      ]
     },
     "execution_count": 3,
     "metadata": {},
     "output_type": "execute_result"
    }
   ],
   "source": [
    "data.shape"
   ]
  },
  {
   "cell_type": "code",
   "execution_count": 9,
   "metadata": {},
   "outputs": [
    {
     "data": {
      "text/html": [
       "<div>\n",
       "<style scoped>\n",
       "    .dataframe tbody tr th:only-of-type {\n",
       "        vertical-align: middle;\n",
       "    }\n",
       "\n",
       "    .dataframe tbody tr th {\n",
       "        vertical-align: top;\n",
       "    }\n",
       "\n",
       "    .dataframe thead th {\n",
       "        text-align: right;\n",
       "    }\n",
       "</style>\n",
       "<table border=\"1\" class=\"dataframe\">\n",
       "  <thead>\n",
       "    <tr style=\"text-align: right;\">\n",
       "      <th></th>\n",
       "      <th>Sample</th>\n",
       "      <th>Family_ID</th>\n",
       "      <th>Population</th>\n",
       "      <th>Population_Description</th>\n",
       "      <th>Gender</th>\n",
       "      <th>Relationship</th>\n",
       "      <th>Unexpected_Parent_Child</th>\n",
       "      <th>Non_Paternity</th>\n",
       "      <th>Siblings</th>\n",
       "      <th>Grandparents</th>\n",
       "      <th>...</th>\n",
       "      <th>In_Final_Phase_Variant_Calling</th>\n",
       "      <th>Has_Omni_Genotypes</th>\n",
       "      <th>Has_Axiom_Genotypes</th>\n",
       "      <th>Has_Affy_6_0_Genotypes</th>\n",
       "      <th>Has_Exome_LOF_Genotypes</th>\n",
       "      <th>EBV_Coverage</th>\n",
       "      <th>DNA_Source_from_Coriell</th>\n",
       "      <th>Has_Sequence_from_Blood_in_Index</th>\n",
       "      <th>Super_Population</th>\n",
       "      <th>Super_Population_Description</th>\n",
       "    </tr>\n",
       "  </thead>\n",
       "  <tbody>\n",
       "    <tr>\n",
       "      <th>0</th>\n",
       "      <td>HG00096</td>\n",
       "      <td>HG00096</td>\n",
       "      <td>GBR</td>\n",
       "      <td>British in England and Scotland</td>\n",
       "      <td>male</td>\n",
       "      <td>NaN</td>\n",
       "      <td>NaN</td>\n",
       "      <td>NaN</td>\n",
       "      <td>NaN</td>\n",
       "      <td>NaN</td>\n",
       "      <td>...</td>\n",
       "      <td>1.0</td>\n",
       "      <td>1.0</td>\n",
       "      <td>NaN</td>\n",
       "      <td>NaN</td>\n",
       "      <td>1.0</td>\n",
       "      <td>20.31</td>\n",
       "      <td>NaN</td>\n",
       "      <td>NaN</td>\n",
       "      <td>EUR</td>\n",
       "      <td>European</td>\n",
       "    </tr>\n",
       "    <tr>\n",
       "      <th>1</th>\n",
       "      <td>HG00097</td>\n",
       "      <td>HG00097</td>\n",
       "      <td>GBR</td>\n",
       "      <td>British in England and Scotland</td>\n",
       "      <td>female</td>\n",
       "      <td>NaN</td>\n",
       "      <td>NaN</td>\n",
       "      <td>NaN</td>\n",
       "      <td>NaN</td>\n",
       "      <td>NaN</td>\n",
       "      <td>...</td>\n",
       "      <td>1.0</td>\n",
       "      <td>1.0</td>\n",
       "      <td>NaN</td>\n",
       "      <td>NaN</td>\n",
       "      <td>1.0</td>\n",
       "      <td>169.49</td>\n",
       "      <td>NaN</td>\n",
       "      <td>NaN</td>\n",
       "      <td>EUR</td>\n",
       "      <td>European</td>\n",
       "    </tr>\n",
       "    <tr>\n",
       "      <th>2</th>\n",
       "      <td>HG00098</td>\n",
       "      <td>HG00098</td>\n",
       "      <td>GBR</td>\n",
       "      <td>British in England and Scotland</td>\n",
       "      <td>male</td>\n",
       "      <td>NaN</td>\n",
       "      <td>NaN</td>\n",
       "      <td>NaN</td>\n",
       "      <td>NaN</td>\n",
       "      <td>NaN</td>\n",
       "      <td>...</td>\n",
       "      <td>NaN</td>\n",
       "      <td>1.0</td>\n",
       "      <td>NaN</td>\n",
       "      <td>NaN</td>\n",
       "      <td>1.0</td>\n",
       "      <td>NaN</td>\n",
       "      <td>NaN</td>\n",
       "      <td>NaN</td>\n",
       "      <td>EUR</td>\n",
       "      <td>European</td>\n",
       "    </tr>\n",
       "    <tr>\n",
       "      <th>3</th>\n",
       "      <td>HG00099</td>\n",
       "      <td>HG00099</td>\n",
       "      <td>GBR</td>\n",
       "      <td>British in England and Scotland</td>\n",
       "      <td>female</td>\n",
       "      <td>NaN</td>\n",
       "      <td>NaN</td>\n",
       "      <td>NaN</td>\n",
       "      <td>NaN</td>\n",
       "      <td>NaN</td>\n",
       "      <td>...</td>\n",
       "      <td>1.0</td>\n",
       "      <td>1.0</td>\n",
       "      <td>NaN</td>\n",
       "      <td>NaN</td>\n",
       "      <td>1.0</td>\n",
       "      <td>23.04</td>\n",
       "      <td>NaN</td>\n",
       "      <td>NaN</td>\n",
       "      <td>EUR</td>\n",
       "      <td>European</td>\n",
       "    </tr>\n",
       "    <tr>\n",
       "      <th>4</th>\n",
       "      <td>HG00100</td>\n",
       "      <td>HG00100</td>\n",
       "      <td>GBR</td>\n",
       "      <td>British in England and Scotland</td>\n",
       "      <td>female</td>\n",
       "      <td>NaN</td>\n",
       "      <td>NaN</td>\n",
       "      <td>NaN</td>\n",
       "      <td>NaN</td>\n",
       "      <td>NaN</td>\n",
       "      <td>...</td>\n",
       "      <td>1.0</td>\n",
       "      <td>1.0</td>\n",
       "      <td>NaN</td>\n",
       "      <td>NaN</td>\n",
       "      <td>1.0</td>\n",
       "      <td>116.22</td>\n",
       "      <td>NaN</td>\n",
       "      <td>NaN</td>\n",
       "      <td>EUR</td>\n",
       "      <td>European</td>\n",
       "    </tr>\n",
       "  </tbody>\n",
       "</table>\n",
       "<p>5 rows × 62 columns</p>\n",
       "</div>"
      ],
      "text/plain": [
       "    Sample Family_ID Population           Population_Description  Gender  \\\n",
       "0  HG00096   HG00096        GBR  British in England and Scotland    male   \n",
       "1  HG00097   HG00097        GBR  British in England and Scotland  female   \n",
       "2  HG00098   HG00098        GBR  British in England and Scotland    male   \n",
       "3  HG00099   HG00099        GBR  British in England and Scotland  female   \n",
       "4  HG00100   HG00100        GBR  British in England and Scotland  female   \n",
       "\n",
       "  Relationship Unexpected_Parent_Child Non_Paternity Siblings Grandparents  \\\n",
       "0          NaN                     NaN           NaN      NaN          NaN   \n",
       "1          NaN                     NaN           NaN      NaN          NaN   \n",
       "2          NaN                     NaN           NaN      NaN          NaN   \n",
       "3          NaN                     NaN           NaN      NaN          NaN   \n",
       "4          NaN                     NaN           NaN      NaN          NaN   \n",
       "\n",
       "              ...              In_Final_Phase_Variant_Calling  \\\n",
       "0             ...                                         1.0   \n",
       "1             ...                                         1.0   \n",
       "2             ...                                         NaN   \n",
       "3             ...                                         1.0   \n",
       "4             ...                                         1.0   \n",
       "\n",
       "  Has_Omni_Genotypes Has_Axiom_Genotypes Has_Affy_6_0_Genotypes  \\\n",
       "0                1.0                 NaN                    NaN   \n",
       "1                1.0                 NaN                    NaN   \n",
       "2                1.0                 NaN                    NaN   \n",
       "3                1.0                 NaN                    NaN   \n",
       "4                1.0                 NaN                    NaN   \n",
       "\n",
       "   Has_Exome_LOF_Genotypes EBV_Coverage DNA_Source_from_Coriell  \\\n",
       "0                      1.0        20.31                     NaN   \n",
       "1                      1.0       169.49                     NaN   \n",
       "2                      1.0          NaN                     NaN   \n",
       "3                      1.0        23.04                     NaN   \n",
       "4                      1.0       116.22                     NaN   \n",
       "\n",
       "   Has_Sequence_from_Blood_in_Index Super_Population  \\\n",
       "0                               NaN              EUR   \n",
       "1                               NaN              EUR   \n",
       "2                               NaN              EUR   \n",
       "3                               NaN              EUR   \n",
       "4                               NaN              EUR   \n",
       "\n",
       "  Super_Population_Description  \n",
       "0                     European  \n",
       "1                     European  \n",
       "2                     European  \n",
       "3                     European  \n",
       "4                     European  \n",
       "\n",
       "[5 rows x 62 columns]"
      ]
     },
     "execution_count": 9,
     "metadata": {},
     "output_type": "execute_result"
    }
   ],
   "source": [
    "data.head()"
   ]
  },
  {
   "cell_type": "raw",
   "metadata": {},
   "source": [
    "Import only the phenotype Super Population\n",
    "table = (hl.import_table('gs://ines-python/tab.csv', delimiter=',').key_by('Sample'))"
   ]
  },
  {
   "cell_type": "code",
   "execution_count": 6,
   "metadata": {},
   "outputs": [],
   "source": [
    "# Annotate the VDS\n",
    "vds = vds.annotate_cols(**table[vds.s])"
   ]
  },
  {
   "cell_type": "code",
   "execution_count": null,
   "metadata": {},
   "outputs": [],
   "source": [
    "print(vds.col.dtype)"
   ]
  },
  {
   "cell_type": "code",
   "execution_count": null,
   "metadata": {},
   "outputs": [],
   "source": [
    "pprint(table.aggregate(agg.counter(table.Super_Population)))"
   ]
  },
  {
   "cell_type": "markdown",
   "metadata": {},
   "source": [
    "  - SAS = South Asian\n",
    "  - AMR = Americas\n",
    "  - EUR = European\n",
    "  - AFR = African\n",
    "  - EAS = East Asian"
   ]
  },
  {
   "cell_type": "markdown",
   "metadata": {},
   "source": [
    "## Subset the matrix"
   ]
  },
  {
   "cell_type": "markdown",
   "metadata": {},
   "source": [
    "#### Table with less samples "
   ]
  },
  {
   "cell_type": "code",
   "execution_count": null,
   "metadata": {},
   "outputs": [],
   "source": [
    "indices = list(range(vds.count_cols()))\n",
    "import random\n",
    "random.shuffle(indices)\n",
    "len(indices)"
   ]
  },
  {
   "cell_type": "code",
   "execution_count": null,
   "metadata": {},
   "outputs": [],
   "source": [
    "vds_sample = vds.choose_cols(indices[1:10])\n",
    "vds_sample.count()"
   ]
  },
  {
   "cell_type": "markdown",
   "metadata": {},
   "source": [
    "#### Table with less snps"
   ]
  },
  {
   "cell_type": "code",
   "execution_count": null,
   "metadata": {},
   "outputs": [],
   "source": [
    "vds_snp = vds.head(10000)\n",
    "vds_snp.count()"
   ]
  },
  {
   "cell_type": "markdown",
   "metadata": {},
   "source": [
    "#### Tableau with less sample and less snps"
   ]
  },
  {
   "cell_type": "code",
   "execution_count": null,
   "metadata": {},
   "outputs": [],
   "source": [
    "vds_reduit = vds.head(18000).choose_cols(indices[1:51])\n",
    "vds_reduit.count()"
   ]
  },
  {
   "cell_type": "code",
   "execution_count": null,
   "metadata": {},
   "outputs": [],
   "source": [
    "vds_reduit.s.show(5)"
   ]
  },
  {
   "cell_type": "code",
   "execution_count": null,
   "metadata": {},
   "outputs": [],
   "source": [
    "vds_reduit.rows().show(3)"
   ]
  },
  {
   "cell_type": "code",
   "execution_count": null,
   "metadata": {},
   "outputs": [],
   "source": [
    "vds_reduit.cols().show(3)"
   ]
  },
  {
   "cell_type": "code",
   "execution_count": null,
   "metadata": {},
   "outputs": [],
   "source": [
    "vds_reduit.GT.show (3)"
   ]
  },
  {
   "cell_type": "code",
   "execution_count": null,
   "metadata": {},
   "outputs": [],
   "source": [
    "vds_reduit.GT.describe()"
   ]
  },
  {
   "cell_type": "code",
   "execution_count": null,
   "metadata": {},
   "outputs": [],
   "source": [
    "type(vds_reduit.GT)"
   ]
  },
  {
   "cell_type": "code",
   "execution_count": null,
   "metadata": {},
   "outputs": [],
   "source": [
    "# 10 min\n",
    "# number of snps\n",
    "snp_counts = vds.aggregate_rows(agg.counter(hl.Struct(ref=vds.alleles[0], alt=vds.alleles[1])))\n",
    "counts = Counter(snp_counts)\n",
    "counts.most_common(10)"
   ]
  },
  {
   "cell_type": "code",
   "execution_count": null,
   "metadata": {},
   "outputs": [],
   "source": []
  },
  {
   "cell_type": "markdown",
   "metadata": {},
   "source": [
    "# SNPs"
   ]
  },
  {
   "cell_type": "markdown",
   "metadata": {},
   "source": [
    "Filter to take only SNPs variants. "
   ]
  },
  {
   "cell_type": "code",
   "execution_count": null,
   "metadata": {},
   "outputs": [],
   "source": [
    "gt = vds.GT"
   ]
  },
  {
   "cell_type": "code",
   "execution_count": null,
   "metadata": {},
   "outputs": [],
   "source": [
    "gt.show(2)"
   ]
  },
  {
   "cell_type": "markdown",
   "metadata": {},
   "source": [
    "METTRE UNE FONCTION AGGREGATE TO SEE THE SNPS ?"
   ]
  },
  {
   "cell_type": "code",
   "execution_count": null,
   "metadata": {},
   "outputs": [],
   "source": []
  },
  {
   "cell_type": "markdown",
   "metadata": {},
   "source": [
    "# PCA"
   ]
  },
  {
   "cell_type": "markdown",
   "metadata": {},
   "source": [
    "This method does not automatically mean-center or normalize each column. If desired, such transformations should be incorporated in entry_expr."
   ]
  },
  {
   "cell_type": "markdown",
   "metadata": {},
   "source": [
    "ADD a description of what the fonction do"
   ]
  },
  {
   "cell_type": "code",
   "execution_count": 7,
   "metadata": {},
   "outputs": [
    {
     "name": "stderr",
     "output_type": "stream",
     "text": [
      "2018-06-21 19:02:18 Hail: INFO: hwe_normalized_pca: running PCA using 39360337 variants.\n",
      "2018-06-21 19:06:55 Hail: INFO: pca: running PCA with 5 components...\n"
     ]
    }
   ],
   "source": [
    "eigenvalues, scores, loadings = hl.hwe_normalized_pca(vds.GT, k=3)"
   ]
  },
  {
   "cell_type": "code",
   "execution_count": 56,
   "metadata": {},
   "outputs": [],
   "source": [
    "# result of PCA phase 1\n",
    "with fs.open('python-ines/result_PCA_phase1.csv') as f:\n",
    "     result_pca = pd.read_csv(f)"
   ]
  },
  {
   "cell_type": "code",
   "execution_count": 57,
   "metadata": {},
   "outputs": [
    {
     "data": {
      "text/plain": [
       "(1092, 2)"
      ]
     },
     "execution_count": 57,
     "metadata": {},
     "output_type": "execute_result"
    }
   ],
   "source": [
    "result_pca.shape"
   ]
  },
  {
   "cell_type": "markdown",
   "metadata": {},
   "source": [
    "STUPID IF the fichier est annoté !!! regarder tuto "
   ]
  },
  {
   "cell_type": "code",
   "execution_count": 58,
   "metadata": {},
   "outputs": [],
   "source": [
    "# Merge the result of the PCA and the data about sample\n",
    "tab_merge = pd.merge(data,result_pca, left_on = 'Sample', right_on = 's')\n",
    "tab_merge['scores'] = tab_merge['scores'].apply(eval)"
   ]
  },
  {
   "cell_type": "code",
   "execution_count": 59,
   "metadata": {},
   "outputs": [
    {
     "data": {
      "text/html": [
       "<div>\n",
       "<style scoped>\n",
       "    .dataframe tbody tr th:only-of-type {\n",
       "        vertical-align: middle;\n",
       "    }\n",
       "\n",
       "    .dataframe tbody tr th {\n",
       "        vertical-align: top;\n",
       "    }\n",
       "\n",
       "    .dataframe thead th {\n",
       "        text-align: right;\n",
       "    }\n",
       "</style>\n",
       "<table border=\"1\" class=\"dataframe\">\n",
       "  <thead>\n",
       "    <tr style=\"text-align: right;\">\n",
       "      <th></th>\n",
       "      <th>Sample</th>\n",
       "      <th>Family_ID</th>\n",
       "      <th>Population</th>\n",
       "      <th>Population_Description</th>\n",
       "      <th>Gender</th>\n",
       "      <th>Relationship</th>\n",
       "      <th>Unexpected_Parent_Child</th>\n",
       "      <th>Non_Paternity</th>\n",
       "      <th>Siblings</th>\n",
       "      <th>Grandparents</th>\n",
       "      <th>...</th>\n",
       "      <th>Has_Axiom_Genotypes</th>\n",
       "      <th>Has_Affy_6_0_Genotypes</th>\n",
       "      <th>Has_Exome_LOF_Genotypes</th>\n",
       "      <th>EBV_Coverage</th>\n",
       "      <th>DNA_Source_from_Coriell</th>\n",
       "      <th>Has_Sequence_from_Blood_in_Index</th>\n",
       "      <th>Super_Population</th>\n",
       "      <th>Super_Population_Description</th>\n",
       "      <th>s</th>\n",
       "      <th>scores</th>\n",
       "    </tr>\n",
       "  </thead>\n",
       "  <tbody>\n",
       "    <tr>\n",
       "      <th>0</th>\n",
       "      <td>HG00096</td>\n",
       "      <td>HG00096</td>\n",
       "      <td>GBR</td>\n",
       "      <td>British in England and Scotland</td>\n",
       "      <td>male</td>\n",
       "      <td>NaN</td>\n",
       "      <td>NaN</td>\n",
       "      <td>NaN</td>\n",
       "      <td>NaN</td>\n",
       "      <td>NaN</td>\n",
       "      <td>...</td>\n",
       "      <td>NaN</td>\n",
       "      <td>NaN</td>\n",
       "      <td>1.0</td>\n",
       "      <td>20.31</td>\n",
       "      <td>NaN</td>\n",
       "      <td>NaN</td>\n",
       "      <td>EUR</td>\n",
       "      <td>European</td>\n",
       "      <td>HG00096</td>\n",
       "      <td>[0.0977252410965315, -0.12383210336741407, -0....</td>\n",
       "    </tr>\n",
       "    <tr>\n",
       "      <th>1</th>\n",
       "      <td>HG00097</td>\n",
       "      <td>HG00097</td>\n",
       "      <td>GBR</td>\n",
       "      <td>British in England and Scotland</td>\n",
       "      <td>female</td>\n",
       "      <td>NaN</td>\n",
       "      <td>NaN</td>\n",
       "      <td>NaN</td>\n",
       "      <td>NaN</td>\n",
       "      <td>NaN</td>\n",
       "      <td>...</td>\n",
       "      <td>NaN</td>\n",
       "      <td>NaN</td>\n",
       "      <td>1.0</td>\n",
       "      <td>169.49</td>\n",
       "      <td>NaN</td>\n",
       "      <td>NaN</td>\n",
       "      <td>EUR</td>\n",
       "      <td>European</td>\n",
       "      <td>HG00097</td>\n",
       "      <td>[0.09454981957527189, -0.12693189906408944, -0...</td>\n",
       "    </tr>\n",
       "    <tr>\n",
       "      <th>2</th>\n",
       "      <td>HG00099</td>\n",
       "      <td>HG00099</td>\n",
       "      <td>GBR</td>\n",
       "      <td>British in England and Scotland</td>\n",
       "      <td>female</td>\n",
       "      <td>NaN</td>\n",
       "      <td>NaN</td>\n",
       "      <td>NaN</td>\n",
       "      <td>NaN</td>\n",
       "      <td>NaN</td>\n",
       "      <td>...</td>\n",
       "      <td>NaN</td>\n",
       "      <td>NaN</td>\n",
       "      <td>1.0</td>\n",
       "      <td>23.04</td>\n",
       "      <td>NaN</td>\n",
       "      <td>NaN</td>\n",
       "      <td>EUR</td>\n",
       "      <td>European</td>\n",
       "      <td>HG00099</td>\n",
       "      <td>[0.09459784057306989, -0.12808712289968635, -0...</td>\n",
       "    </tr>\n",
       "    <tr>\n",
       "      <th>3</th>\n",
       "      <td>HG00100</td>\n",
       "      <td>HG00100</td>\n",
       "      <td>GBR</td>\n",
       "      <td>British in England and Scotland</td>\n",
       "      <td>female</td>\n",
       "      <td>NaN</td>\n",
       "      <td>NaN</td>\n",
       "      <td>NaN</td>\n",
       "      <td>NaN</td>\n",
       "      <td>NaN</td>\n",
       "      <td>...</td>\n",
       "      <td>NaN</td>\n",
       "      <td>NaN</td>\n",
       "      <td>1.0</td>\n",
       "      <td>116.22</td>\n",
       "      <td>NaN</td>\n",
       "      <td>NaN</td>\n",
       "      <td>EUR</td>\n",
       "      <td>European</td>\n",
       "      <td>HG00100</td>\n",
       "      <td>[0.09704741895992026, -0.12903023760772991, -0...</td>\n",
       "    </tr>\n",
       "    <tr>\n",
       "      <th>4</th>\n",
       "      <td>HG00101</td>\n",
       "      <td>HG00101</td>\n",
       "      <td>GBR</td>\n",
       "      <td>British in England and Scotland</td>\n",
       "      <td>male</td>\n",
       "      <td>NaN</td>\n",
       "      <td>NaN</td>\n",
       "      <td>NaN</td>\n",
       "      <td>NaN</td>\n",
       "      <td>NaN</td>\n",
       "      <td>...</td>\n",
       "      <td>NaN</td>\n",
       "      <td>NaN</td>\n",
       "      <td>1.0</td>\n",
       "      <td>82.00</td>\n",
       "      <td>NaN</td>\n",
       "      <td>NaN</td>\n",
       "      <td>EUR</td>\n",
       "      <td>European</td>\n",
       "      <td>HG00101</td>\n",
       "      <td>[0.09395472296986376, -0.12172016366169666, -0...</td>\n",
       "    </tr>\n",
       "  </tbody>\n",
       "</table>\n",
       "<p>5 rows × 64 columns</p>\n",
       "</div>"
      ],
      "text/plain": [
       "    Sample Family_ID Population           Population_Description  Gender  \\\n",
       "0  HG00096   HG00096        GBR  British in England and Scotland    male   \n",
       "1  HG00097   HG00097        GBR  British in England and Scotland  female   \n",
       "2  HG00099   HG00099        GBR  British in England and Scotland  female   \n",
       "3  HG00100   HG00100        GBR  British in England and Scotland  female   \n",
       "4  HG00101   HG00101        GBR  British in England and Scotland    male   \n",
       "\n",
       "  Relationship Unexpected_Parent_Child Non_Paternity Siblings Grandparents  \\\n",
       "0          NaN                     NaN           NaN      NaN          NaN   \n",
       "1          NaN                     NaN           NaN      NaN          NaN   \n",
       "2          NaN                     NaN           NaN      NaN          NaN   \n",
       "3          NaN                     NaN           NaN      NaN          NaN   \n",
       "4          NaN                     NaN           NaN      NaN          NaN   \n",
       "\n",
       "                         ...                         Has_Axiom_Genotypes  \\\n",
       "0                        ...                                         NaN   \n",
       "1                        ...                                         NaN   \n",
       "2                        ...                                         NaN   \n",
       "3                        ...                                         NaN   \n",
       "4                        ...                                         NaN   \n",
       "\n",
       "  Has_Affy_6_0_Genotypes Has_Exome_LOF_Genotypes EBV_Coverage  \\\n",
       "0                    NaN                     1.0        20.31   \n",
       "1                    NaN                     1.0       169.49   \n",
       "2                    NaN                     1.0        23.04   \n",
       "3                    NaN                     1.0       116.22   \n",
       "4                    NaN                     1.0        82.00   \n",
       "\n",
       "   DNA_Source_from_Coriell Has_Sequence_from_Blood_in_Index Super_Population  \\\n",
       "0                      NaN                              NaN              EUR   \n",
       "1                      NaN                              NaN              EUR   \n",
       "2                      NaN                              NaN              EUR   \n",
       "3                      NaN                              NaN              EUR   \n",
       "4                      NaN                              NaN              EUR   \n",
       "\n",
       "   Super_Population_Description        s  \\\n",
       "0                      European  HG00096   \n",
       "1                      European  HG00097   \n",
       "2                      European  HG00099   \n",
       "3                      European  HG00100   \n",
       "4                      European  HG00101   \n",
       "\n",
       "                                              scores  \n",
       "0  [0.0977252410965315, -0.12383210336741407, -0....  \n",
       "1  [0.09454981957527189, -0.12693189906408944, -0...  \n",
       "2  [0.09459784057306989, -0.12808712289968635, -0...  \n",
       "3  [0.09704741895992026, -0.12903023760772991, -0...  \n",
       "4  [0.09395472296986376, -0.12172016366169666, -0...  \n",
       "\n",
       "[5 rows x 64 columns]"
      ]
     },
     "execution_count": 59,
     "metadata": {},
     "output_type": "execute_result"
    }
   ],
   "source": [
    "tab_merge.head()"
   ]
  },
  {
   "cell_type": "code",
   "execution_count": null,
   "metadata": {},
   "outputs": [],
   "source": []
  },
  {
   "cell_type": "markdown",
   "metadata": {},
   "source": [
    "#### With Plotly"
   ]
  },
  {
   "cell_type": "code",
   "execution_count": 77,
   "metadata": {},
   "outputs": [],
   "source": [
    "def phenotype(table, phenotype,name, dimension =2):\n",
    "    list1 = []\n",
    "    list2 = []\n",
    "    for i in (table[table[phenotype]==name].index):\n",
    "            list1.append(table.scores[i][0:dimension][0])\n",
    "            list2.append(table.scores[i][0:dimension][1])\n",
    "    return([list1, list2])"
   ]
  },
  {
   "cell_type": "raw",
   "metadata": {},
   "source": [
    "phenotype(table, 'Super_Population', 'EUR')[0]"
   ]
  },
  {
   "cell_type": "code",
   "execution_count": 83,
   "metadata": {},
   "outputs": [
    {
     "data": {
      "text/html": [
       "<iframe id=\"igraph\" scrolling=\"no\" style=\"border:none;\" seamless=\"seamless\" src=\"https://plot.ly/~ineskris/218.embed\" height=\"525px\" width=\"100%\"></iframe>"
      ],
      "text/plain": [
       "<plotly.tools.PlotlyDisplay object>"
      ]
     },
     "execution_count": 83,
     "metadata": {},
     "output_type": "execute_result"
    }
   ],
   "source": [
    "trace1 = Scatter(\n",
    "            x=phenotype(table, 'Super_Population', 'EUR')[0],\n",
    "            y=phenotype(table, 'Super_Population', 'EUR')[1],\n",
    "            mode='markers',\n",
    "            name='EUR',\n",
    "            marker= Marker(\n",
    "                size=12,\n",
    "                line= Line(\n",
    "                    color='rgba(217, 217, 217, 0.14)',\n",
    "                    width=0.5),\n",
    "                opacity=0.8))\n",
    "        \n",
    "trace2 = Scatter(\n",
    "            x=phenotype(table, 'Super_Population', 'AFR')[0],\n",
    "            y=phenotype(table, 'Super_Population', 'AFR')[1],\n",
    "            mode='markers',\n",
    "            name='AFR',\n",
    "            marker= Marker(\n",
    "                size=12,\n",
    "                line= Line(\n",
    "                    color='rgba(217, 217, 217, 0.14)',\n",
    "                    width=0.5),\n",
    "                opacity=0.8))\n",
    "\n",
    "trace3 = Scatter(\n",
    "            x=phenotype(table, 'Super_Population', 'AMR')[0],\n",
    "            y=phenotype(table, 'Super_Population', 'AMR')[1],\n",
    "            mode='markers',\n",
    "            name='AMR',\n",
    "            marker= Marker(\n",
    "                size=12,\n",
    "                line= Line(\n",
    "                    color='rgba(217, 217, 217, 0.14)',\n",
    "                    width=0.5),\n",
    "                opacity=0.8))\n",
    "\n",
    "trace4 = Scatter(\n",
    "            x=phenotype(table, 'Super_Population', 'EAS')[0],\n",
    "            y=phenotype(table, 'Super_Population', 'EAS')[1],\n",
    "            mode='markers',\n",
    "            name='EAS',\n",
    "            marker= Marker(\n",
    "                size=12,\n",
    "                line= Line(\n",
    "                    color='rgba(217, 217, 217, 0.14)',\n",
    "                    width=0.5),\n",
    "                opacity=0.8))\n",
    "\n",
    "data = Data([trace1, trace2, trace3, trace4])\n",
    "layout = Layout(showlegend=True,\n",
    "                scene=Scene(xaxis=XAxis(title='PC1'),\n",
    "                yaxis=YAxis(title='PC2'),))\n",
    "\n",
    "fig = Figure(data=data, layout=layout)\n",
    "py.iplot(fig)"
   ]
  },
  {
   "cell_type": "code",
   "execution_count": 84,
   "metadata": {},
   "outputs": [],
   "source": [
    "def phenotype(table, phenotype,name, dimension =3):\n",
    "    list1 = []\n",
    "    list2 = []\n",
    "    list3 = []\n",
    "    for i in (table[table[phenotype]==name].index):\n",
    "            list1.append(table.scores[i][0:dimension][0])\n",
    "            list2.append(table.scores[i][0:dimension][1])\n",
    "            list3.append(table.scores[i][0:dimension][2])\n",
    "    return([list1, list2, list3])"
   ]
  },
  {
   "cell_type": "code",
   "execution_count": 99,
   "metadata": {},
   "outputs": [
    {
     "data": {
      "text/html": [
       "<iframe id=\"igraph\" scrolling=\"no\" style=\"border:none;\" seamless=\"seamless\" src=\"https://plot.ly/~ineskris/238.embed\" height=\"525px\" width=\"700px\"></iframe>"
      ],
      "text/plain": [
       "<plotly.tools.PlotlyDisplay object>"
      ]
     },
     "execution_count": 99,
     "metadata": {},
     "output_type": "execute_result"
    }
   ],
   "source": [
    "trace1 = Scatter3d(\n",
    "            x=phenotype(table, 'Super_Population', 'EUR')[0],\n",
    "            y=phenotype(table, 'Super_Population', 'EUR')[1],\n",
    "            z=phenotype(table, 'Super_Population', 'EUR')[2],\n",
    "            mode='markers',\n",
    "            name='EUR',\n",
    "            marker= Marker(\n",
    "                size=5))\n",
    "        \n",
    "trace2 = Scatter3d(\n",
    "            x=phenotype(table, 'Super_Population', 'AFR')[0],\n",
    "            y=phenotype(table, 'Super_Population', 'AFR')[1],\n",
    "            z=phenotype(table, 'Super_Population', 'AFR')[2],\n",
    "            mode='markers',\n",
    "            name='AFR',\n",
    "            marker= Marker(\n",
    "                size=5\n",
    "             ))\n",
    "\n",
    "trace3 = Scatter3d(\n",
    "            x=phenotype(table, 'Super_Population', 'AMR')[0],\n",
    "            y=phenotype(table, 'Super_Population', 'AMR')[1],\n",
    "            z=phenotype(table, 'Super_Population', 'AMR')[2],\n",
    "            mode='markers',\n",
    "            name='AMR',\n",
    "            marker= Marker(\n",
    "                size=5\n",
    "                ))\n",
    "\n",
    "trace4 = Scatter3d(\n",
    "            x=phenotype(table, 'Super_Population', 'EAS')[0],\n",
    "            y=phenotype(table, 'Super_Population', 'EAS')[1],\n",
    "            z=phenotype(table, 'Super_Population', 'EAS')[2],\n",
    "            mode='markers',\n",
    "            name='EAS',\n",
    "            marker= Marker(\n",
    "                size=5\n",
    "                ))\n",
    "\n",
    "data = Data([trace1, trace2, trace3, trace4])\n",
    "\n",
    "\n",
    "layout = go.Layout(title='Phase 1 - 1000 Genomes Project',\n",
    "                    scene = dict(\n",
    "                    xaxis = dict(\n",
    "                        title='PCA 1'),\n",
    "                    yaxis = dict(\n",
    "                        title='PCA 2'),\n",
    "                    zaxis = dict(\n",
    "                        title='PCA 3'),),\n",
    "                    width=700,\n",
    "                    margin=dict(\n",
    "                    r=20, b=10,\n",
    "                    l=10, t=10)\n",
    "                  )\n",
    "\n",
    "fig = Figure(data=data, layout=layout)\n",
    "py.iplot(fig)\n"
   ]
  },
  {
   "cell_type": "code",
   "execution_count": null,
   "metadata": {},
   "outputs": [],
   "source": []
  },
  {
   "cell_type": "markdown",
   "metadata": {},
   "source": [
    "#### With Matlplotlib"
   ]
  },
  {
   "cell_type": "code",
   "execution_count": 7,
   "metadata": {},
   "outputs": [],
   "source": [
    "import pandas as pd, numpy as np, matplotlib.pyplot as plt, seaborn as sns\n",
    "%matplotlib inline\n",
    "info = pd.read_csv('sample_info.csv', sep=',')\n",
    "result_pca = pd.read_csv('result_PCA_phase1.csv', sep=',')"
   ]
  },
  {
   "cell_type": "code",
   "execution_count": 8,
   "metadata": {},
   "outputs": [],
   "source": [
    "tab_merge = pd.merge(info,result_pca, left_on = 'Sample', right_on = 's')\n",
    "tab_merge['scores'] = tab_merge['scores'].apply(eval)"
   ]
  },
  {
   "cell_type": "code",
   "execution_count": 15,
   "metadata": {},
   "outputs": [],
   "source": [
    "from itertools import cycle\n",
    "cycol = cycle('bgrcmk')\n",
    "\n",
    "def scatter(table, phenotype='Super_Population', dimension=2):\n",
    "    \"\"\"Scatter the result of a PCA with two components.\n",
    "    Input:\n",
    "    - table: pd.DataFrame with n rows (ie the number of points/samples)\n",
    "    - phenotype : phenotype present in the table\n",
    "    - dimension : number of dimension for the PCA (2 or 3)\n",
    "    \"\"\"\n",
    "    for pop in (table[phenotype].unique()): \n",
    "        PCA1 = []\n",
    "        PCA2 = []\n",
    "        for i in (table[table[phenotype]==pop].index):\n",
    "            PCA1.append(table.scores[i][0:dimension][0])\n",
    "            PCA2.append(table.scores[i][0:dimension][1])\n",
    "        plt.scatter(PCA1,PCA2, label=pop, color = next(cycol))\n",
    "    plt.legend();"
   ]
  },
  {
   "cell_type": "code",
   "execution_count": 16,
   "metadata": {},
   "outputs": [
    {
     "data": {
      "image/png": "[encoded data removed]",
      "text/plain": [
       "<matplotlib.figure.Figure at 0x248c49160b8>"
      ]
     },
     "metadata": {},
     "output_type": "display_data"
    }
   ],
   "source": [
    "scatter(tab_merge)"
   ]
  },
  {
   "cell_type": "code",
   "execution_count": null,
   "metadata": {},
   "outputs": [],
   "source": [
    "def scatter(table, phenotype='Super_Population', dimension=2):\n",
    "    \"\"\"Scatter the result of a PCA.\n",
    "    Input:\n",
    "    - table: pd.DataFrame with n rows (ie the number of points/samples)\n",
    "    - phenotype : phenotype present in the table\n",
    "    - dimension : number of dimension for the PCA (2 or 3)\n",
    "    \"\"\"\n",
    "    for pop in (table[phenotype].unique()): \n",
    "        PCA1 = []\n",
    "        PCA2 = []\n",
    "        PCA3 = []\n",
    "        for i in (table[table[phenotype]==pop].index):\n",
    "            PCA1.append(table.scores[i][0:dimension][0])\n",
    "            PCA2.append(table.scores[i][0:dimension][1])\n",
    "            PCA3.append(table.scores[i][0:dimension][2])\n",
    "            if (dimension == 2):\n",
    "                plt.scatter(PCA1,PCA2, label=pop, color = next(cycol))\n",
    "            else :\n",
    "                #SCATTER EN 3D \n",
    "    plt.legend();"
   ]
  },
  {
   "cell_type": "code",
   "execution_count": null,
   "metadata": {},
   "outputs": [],
   "source": []
  },
  {
   "cell_type": "code",
   "execution_count": null,
   "metadata": {},
   "outputs": [],
   "source": []
  },
  {
   "cell_type": "code",
   "execution_count": null,
   "metadata": {},
   "outputs": [],
   "source": []
  },
  {
   "cell_type": "code",
   "execution_count": null,
   "metadata": {},
   "outputs": [],
   "source": []
  },
  {
   "cell_type": "code",
   "execution_count": null,
   "metadata": {},
   "outputs": [],
   "source": []
  }
 ],
 "metadata": {
  "kernelspec": {
   "display_name": "Python 3",
   "language": "python",
   "name": "python3"
  },
  "language_info": {
   "codemirror_mode": {
    "name": "ipython",
    "version": 3
   },
   "file_extension": ".py",
   "mimetype": "text/x-python",
   "name": "python",
   "nbconvert_exporter": "python",
   "pygments_lexer": "ipython3",
   "version": "3.6.4"
  }
 },
 "nbformat": 4,
 "nbformat_minor": 2
}
